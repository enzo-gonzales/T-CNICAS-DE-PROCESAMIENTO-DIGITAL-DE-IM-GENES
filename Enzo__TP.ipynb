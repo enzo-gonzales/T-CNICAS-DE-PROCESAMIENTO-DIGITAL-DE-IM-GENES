{
  "cells": [
    {
      "cell_type": "markdown",
      "id": "cell-0",
      "metadata": {
        "id": "cell-0"
      },
      "source": [
        "# TRABAJO PRÁCTICO INTEGRADOR N°1\n",
        "\n",
        "## Sistema de Análisis de Documentos Digitalizados\n",
        "\n",
        "---\n",
        "\n",
        "**Información del Estudiante:**\n",
        "- **Nombre y Apellido:** [COMPLETAR]\n",
        "- **Fecha de Entrega:** 24 de Septiembre de 2025\n",
        "- **Materia:** Procesamiento de Imágenes - IFTS24\n",
        "\n",
        "---\n",
        "\n",
        "### Objetivo\n",
        "\n",
        "Desarrollar un sistema básico de análisis automático de documentos digitalizados que integre las técnicas de procesamiento de imágenes estudiadas en el curso.\n",
        "\n",
        "### Estructura del Trabajo\n",
        "\n",
        "| Parte | Descripción | Peso |\n",
        "|-------|-------------|------|\n",
        "| **1** | Fundamentos Teóricos | 20% |\n",
        "| **2** | Setup del Entorno | 15% |\n",
        "| **3** | Análisis de Imágenes | 35% |\n",
        "| **4** | Preprocessing Básico | 30% |\n",
        "\n",
        "**Dataset requerido:** 3 imágenes de documentos con diferentes características (buena calidad, rotada, con problemas de iluminación)\n",
        "\n",
        "---"
      ]
    },
    {
      "cell_type": "markdown",
      "id": "cell-1",
      "metadata": {
        "id": "cell-1"
      },
      "source": [
        "# PARTE 1: Fundamentos Teóricos\n",
        "\n",
        "## ¿Por qué Cuadernos Interactivos para IA y Ciencias de Datos?\n",
        "\n",
        "### Diferencias Metodológicas Fundamentales\n",
        "\n",
        "El trabajo en inteligencia artificial y ciencias de datos requiere un enfoque metodológico diferente al desarrollo de software tradicional. Mientras que la programación tradicional sigue un flujo lineal y predecible, el trabajo con datos es inherentemente iterativo y exploratorio.\n",
        "\n",
        "**Programación Tradicional:**\n",
        "```\n",
        "Requisitos → Diseño → Implementación → Testing → Producto\n",
        "```\n",
        "\n",
        "**Investigación en IA/Datos:**\n",
        "```\n",
        "Hipótesis ⟷ Experimento ⟷ Análisis ⟷ Refinamiento ⟷ Nueva Hipótesis\n",
        "```\n",
        "\n",
        "### Ventajas de los Cuadernos Interactivos\n",
        "\n",
        "1. **Narrativa Científica:** Permiten documentar el proceso de pensamiento, no solo el resultado final\n",
        "2. **Iteración Rápida:** Ejecutar y modificar secciones específicas sin reejecutar todo el programa\n",
        "3. **Visualización Inmediata:** Ver resultados inmediatamente después de cada paso\n",
        "4. **Comunicación Efectiva:** Stakeholders no técnicos pueden seguir el proceso y entender decisiones\n",
        "5. **Reproducibilidad:** Otros investigadores pueden replicar exactamente los experimentos\n",
        "\n",
        "### Casos de Uso en la Industria\n",
        "\n",
        "- **Google Research:** Publica papers con cuadernos que permiten reproducir experimentos\n",
        "- **Netflix:** Usa cuadernos para análisis de datos de usuarios y recomendaciones\n",
        "- **Uber:** Análisis de patrones de viajes y optimización de rutas\n",
        "- **Kaggle:** Plataforma completa basada en cuadernos para competencias de machine learning\n",
        "\n",
        "### Cuándo Usar Cada Herramienta\n",
        "\n",
        "**Usar Cuadernos para:**\n",
        "- Análisis exploratorio de datos\n",
        "- Experimentación y prototipado\n",
        "- Comunicación de resultados\n",
        "- Educación y documentación\n",
        "\n",
        "**Usar Scripts para:**\n",
        "- Sistemas en producción\n",
        "- Automatización de tareas repetitivas\n",
        "- APIs y servicios web\n",
        "- Pipelines de datos automatizados\n",
        "\n",
        "En este trabajo práctico, usaremos cuadernos porque estamos en la fase de investigación y experimentación, donde necesitamos entender los datos, probar diferentes enfoques y documentar nuestros hallazgos.\n",
        "\n",
        "---"
      ]
    },
    {
      "cell_type": "markdown",
      "id": "cell-2",
      "metadata": {
        "id": "cell-2"
      },
      "source": [
        "# PARTE 2: Setup del Entorno\n",
        "\n",
        "En esta sección vas a configurar tu entorno de trabajo de manera profesional. Un setup bien hecho te ahorra tiempo y errores durante todo el proyecto.\n",
        "\n",
        "**Material de consulta:** `Utilidades_y_Plantillas.ipynb`\n",
        "\n",
        "## 2.1 Importaciones Básicas\n",
        "\n",
        "Importá las librerías necesarias para procesamiento de imágenes y visualización:"
      ]
    },
    {
      "cell_type": "code",
      "execution_count": 3,
      "id": "cell-3",
      "metadata": {
        "id": "cell-3"
      },
      "outputs": [],
      "source": [
        "# Importá aquí las librerías necesarias\n",
        "# Necesitarás: numpy, matplotlib, opencv, y configuraciones básicas\n",
        "#------------------------------------------------------------------#\n",
        "import numpy as np                     # Para operaciones numéricas y matrices\n",
        "import matplotlib.pyplot as plt        # Para mostrar imágenes y gráficos\n",
        "import cv2                             # OpenCV: procesamiento de imágenes\n",
        "\n",
        "#  Configuraciones básicas\n",
        "\n",
        "\n",
        "%matplotlib inline\n",
        "\n",
        "# Cambiar estilo de gráficos (opcional)\n",
        "plt.style.use('seaborn-v0_8')"
      ]
    },
    {
      "cell_type": "markdown",
      "id": "cell-4",
      "metadata": {
        "id": "cell-4"
      },
      "source": [
        "## 2.2 Funciones Utilitarias\n",
        "\n",
        "Implementá una función básica para cargar y mostrar información de imágenes:"
      ]
    },
    {
      "cell_type": "code",
      "execution_count": 4,
      "id": "cell-5",
      "metadata": {
        "id": "cell-5",
        "colab": {
          "base_uri": "https://localhost:8080/"
        },
        "outputId": "c1b1b129-3946-4012-f829-86a87ccd5f4b"
      },
      "outputs": [
        {
          "output_type": "stream",
          "name": "stdout",
          "text": [
            "⚠️ No se pudo cargar la imagen: imagen.jpg\n",
            "⚠️ Imagen no válida\n"
          ]
        }
      ],
      "source": [
        "\n",
        "def cargar_imagen(ruta):\n",
        "    \"\"\"\n",
        "    Carga una imagen desde una ruta y la convierte a RGB.\n",
        "    Devuelve None si hay error.\n",
        "    \"\"\"\n",
        "    imagen = cv2.imread(ruta)  # Leer imagen\n",
        "    if imagen is None:\n",
        "        print(f\"⚠️ No se pudo cargar la imagen: {ruta}\")\n",
        "        return None\n",
        "\n",
        "    imagen_rgb = cv2.cvtColor(imagen, cv2.COLOR_BGR2RGB)  # Convertir a RGB\n",
        "    return imagen_rgb\n",
        "\n",
        "\n",
        "def mostrar_info_imagen(imagen, titulo=\"Imagen\"):\n",
        "    \"\"\"\n",
        "    Muestra dimensiones, tipo, rango de valores y visualiza la imagen.\n",
        "    \"\"\"\n",
        "    if imagen is None:\n",
        "        print(\"⚠️ Imagen no válida\")\n",
        "        return\n",
        "\n",
        "    print(\"📐 Dimensiones:\", imagen.shape)\n",
        "    print(\"🔢 Tipo:\", imagen.dtype)\n",
        "    print(\"🌈 Rango:\", imagen.min(), \"-\", imagen.max())\n",
        "\n",
        "    plt.imshow(imagen)\n",
        "    plt.title(titulo)\n",
        "    plt.axis('off')\n",
        "    plt.show()\n",
        "\n",
        "\n",
        "# 🧪 Uso del programa\n",
        "# Cambia \"imagen.jpg\" por la ruta de tu archivo\n",
        "ruta_imagen = \"imagen.jpg\"\n",
        "\n",
        "# Cargar la imagen en una variable\n",
        "imagen = cargar_imagen(ruta_imagen)\n",
        "\n",
        "# Mostrar información y la imagen\n",
        "mostrar_info_imagen(imagen, \"Imagen cargada\")"
      ]
    },
    {
      "cell_type": "markdown",
      "id": "cell-6",
      "metadata": {
        "id": "cell-6"
      },
      "source": [
        "## 2.3 Verificación del Setup\n",
        "\n",
        "Probá que todo funciona creando una imagen sintética simple:"
      ]
    },
    {
      "cell_type": "code",
      "execution_count": null,
      "id": "cell-7",
      "metadata": {
        "id": "cell-7"
      },
      "outputs": [],
      "source": [
        "# Creá una imagen sintética simple (ej: gradiente o patrón)\n",
        "# Probá tus funciones con esta imagen\n"
      ]
    },
    {
      "cell_type": "markdown",
      "id": "cell-8",
      "metadata": {
        "id": "cell-8"
      },
      "source": [
        "---\n",
        "\n",
        "# PARTE 3: Análisis de Tu Dataset\n",
        "\n",
        "Ahora vas a trabajar con tu dataset de 3 documentos. Esta parte es clave para entender qué problemas tenés que resolver.\n",
        "\n",
        "**Preparación del Dataset:**\n",
        "- Creá una carpeta llamada `dataset/` en la misma ubicación que este notebook\n",
        "- Incluí exactamente 3 imágenes de documentos:\n",
        "  1. Una de buena calidad (bien iluminada, recta)\n",
        "  2. Una rotada o inclinada\n",
        "  3. Una con problemas (oscura, borrosa, o con sombras)\n",
        "\n",
        "## 3.1 Carga de las Imágenes\n",
        "\n",
        "**Material de consulta:** `002/TEO/LeerImagenColor.ipynb`"
      ]
    },
    {
      "cell_type": "code",
      "execution_count": null,
      "id": "cell-9",
      "metadata": {
        "id": "cell-9"
      },
      "outputs": [],
      "source": [
        "# Define las rutas a tus 3 imágenes\n",
        "rutas_imagenes = [\n",
        "    \"dataset/imagen1.jpg\",  # Buena calidad\n",
        "    \"dataset/imagen2.jpg\",  # Rotada\n",
        "    \"dataset/imagen3.jpg\"   # Con problemas\n",
        "]\n",
        "\n",
        "# Carga las 3 imágenes usando tu función\n",
        "imagenes = []\n",
        "nombres = [\"Buena Calidad\", \"Rotada\", \"Con Problemas\"]\n",
        "\n",
        "# ✅ Cargar cada imagen en la lista\n",
        "for ruta in rutas_imagenes:\n",
        "    img = cargar_imagen(ruta)\n",
        "    imagenes.append(img)\n",
        "\n",
        "# ✅ Mostrar información de cada imagen\n",
        "for img, nombre in zip(imagenes, nombres):\n",
        "    mostrar_info_imagen(img, nombre)\n"
      ]
    },
    {
      "cell_type": "markdown",
      "id": "cell-10",
      "metadata": {
        "id": "cell-10"
      },
      "source": [
        "## 3.2 Inspección Visual y Análisis\n",
        "\n",
        "**Material de consulta:** `002/Fundamentos_Imagen_Digital.ipynb`"
      ]
    },
    {
      "cell_type": "code",
      "execution_count": null,
      "id": "cell-11",
      "metadata": {
        "id": "cell-11"
      },
      "outputs": [],
      "source": [
        "# Mostrar las 3 imágenes lado a lado con sus nombres\n",
        "# Usa subplots de matplotlib\n",
        "\n",
        "fig, axs = plt.subplots(1, 3, figsize=(15, 5))  # 1 fila, 3 columnas\n",
        "\n",
        "for i, (img, nombre) in enumerate(zip(imagenes, nombres)):\n",
        "    axs[i].imshow(img)\n",
        "    axs[i].set_title(nombre)\n",
        "    axs[i].axis('off')  # Oculta los ejes para mejor visualización\n",
        "\n",
        "plt.tight_layout()\n",
        "plt.show()\n",
        "\n"
      ]
    },
    {
      "cell_type": "code",
      "execution_count": null,
      "id": "cell-12",
      "metadata": {
        "id": "cell-12"
      },
      "outputs": [],
      "source": [
        "# Mostrar información básica y el histograma de cada imagen\n",
        "\n",
        "for img, nombre in zip(imagenes, nombres):\n",
        "    if img is None:\n",
        "        print(f\"⚠️ No se pudo procesar la imagen: {nombre}\")\n",
        "        continue\n",
        "\n",
        "    # --- Información básica ---\n",
        "    print(f\"🔎 Análisis de: {nombre}\")\n",
        "    mostrar_info_imagen(img, nombre)  # Usa la función que hicimos antes\n",
        "\n",
        "    # --- Histograma ---\n",
        "    # Si la imagen es a color, la convertimos a escala de grises para el histograma\n",
        "    if len(img.shape) == 3:\n",
        "        img_gray = cv2.cvtColor(img, cv2.COLOR_RGB2GRAY)\n",
        "    else:\n",
        "        img_gray = img\n",
        "\n",
        "    plt.figure(figsize=(6, 4))\n",
        "    plt.hist(img_gray.ravel(), bins=256, color='gray', alpha=0.8)\n",
        "    plt.title(f\"Histograma - {nombre}\")\n",
        "    plt.xlabel(\"Valor de intensidad\")\n",
        "    plt.ylabel(\"Frecuencia\")\n",
        "    plt.grid(True, linestyle='--', alpha=0.5)\n",
        "    plt.show()\n"
      ]
    },
    {
      "cell_type": "markdown",
      "id": "cell-13",
      "metadata": {
        "id": "cell-13"
      },
      "source": [
        "## 3.3 Identificación de Problemas\n",
        "\n",
        "Basándote en tu inspección visual, identificá los problemas principales de cada imagen:"
      ]
    },
    {
      "cell_type": "markdown",
      "id": "cell-14",
      "metadata": {
        "id": "cell-14"
      },
      "source": [
        "**Imagen 1 (Buena Calidad):**\n",
        "- Problemas identificados: [COMPLETAR]\n",
        "- Preprocessing necesario: [COMPLETAR]\n",
        "\n",
        "**Imagen 2 (Rotada):**\n",
        "- Problemas identificados: [COMPLETAR]\n",
        "- Preprocessing necesario: [COMPLETAR]\n",
        "\n",
        "**Imagen 3 (Con Problemas):**\n",
        "- Problemas identificados: [COMPLETAR]\n",
        "- Preprocessing necesario: [COMPLETAR]"
      ]
    },
    {
      "cell_type": "markdown",
      "id": "cell-15",
      "metadata": {
        "id": "cell-15"
      },
      "source": [
        "---\n",
        "\n",
        "# PARTE 4: Preprocessing Básico\n",
        "\n",
        "Ahora vas a aplicar técnicas de preprocessing para mejorar cada imagen. Trabajá con una imagen por vez.\n",
        "\n",
        "## 4.1 Segmentación Básica\n",
        "\n",
        "Separar el documento del fondo es el primer paso crítico.\n",
        "\n",
        "**Material de consulta:** `Segmentacion.ipynb` (especialmente las funciones de umbralización)"
      ]
    },
    {
      "cell_type": "code",
      "execution_count": null,
      "id": "cell-16",
      "metadata": {
        "id": "cell-16"
      },
      "outputs": [],
      "source": [
        "# Elegí UNA de tus imágenes para trabajar primero\n",
        "imagen_trabajo = imagenes[0]  # Cambiá el índice (0, 1 o 2) según la imagen que quieras\n",
        "\n",
        "# ✅ Convertir a escala de grises\n",
        "imagen_gris = cv2.cvtColor(imagen_trabajo, cv2.COLOR_RGB2GRAY)\n",
        "\n",
        "# Mostrar resultado\n",
        "plt.imshow(imagen_gris, cmap='gray')\n",
        "plt.title(\"Imagen en escala de grises\")\n",
        "plt.axis('off')\n",
        "plt.show()\n"
      ]
    },
    {
      "cell_type": "code",
      "execution_count": null,
      "id": "cell-17",
      "metadata": {
        "id": "cell-17"
      },
      "outputs": [],
      "source": [
        "# Aplicar segmentación por umbralización\n",
        "# Probe distintos valores de 'umbral' (entre 0 y 255) para ver cuál separa mejor los objetos del fondo\n",
        "umbrales = [50, 100, 150, 180, 200]\n",
        "\n",
        "plt.figure(figsize=(15, 5))\n",
        "\n",
        "for i, u in enumerate(umbrales):\n",
        "    _, img_umbral = cv2.threshold(imagen_gris, u, 255, cv2.THRESH_BINARY)\n",
        "    plt.subplot(1, 5, i + 1)\n",
        "    plt.imshow(img_umbral, cmap='gray')\n",
        "    plt.title(f\"Umbral = {u}\")\n",
        "    plt.axis('off')\n",
        "\n",
        "plt.tight_layout()\n",
        "plt.show()\n",
        "\n"
      ]
    },
    {
      "cell_type": "code",
      "execution_count": null,
      "id": "cell-18",
      "metadata": {
        "id": "cell-18"
      },
      "outputs": [],
      "source": [
        "# Supongamos que ya tenemos:\n",
        "# imagen_trabajo -> imagen original\n",
        "# imagen_gris -> versión en escala de grises\n",
        "# imagen_umbral -> máscara binaria (resultado del umbral elegido)\n",
        "\n",
        "plt.figure(figsize=(15, 5))\n",
        "\n",
        "# Imagen original\n",
        "plt.subplot(1, 3, 1)\n",
        "plt.imshow(imagen_trabajo)\n",
        "plt.title(\"Original\")\n",
        "plt.axis('off')\n",
        "\n",
        "# Escala de grises\n",
        "plt.subplot(1, 3, 2)\n",
        "plt.imshow(imagen_gris, cmap='gray')\n",
        "plt.title(\"Escala de grises\")\n",
        "plt.axis('off')\n",
        "\n",
        "# Máscara binaria\n",
        "plt.subplot(1, 3, 3)\n",
        "plt.imshow(imagen_umbral, cmap='gray')\n",
        "plt.title(\"Máscara umbral\")\n",
        "plt.axis('off')\n",
        "\n",
        "plt.tight_layout()\n",
        "plt.show()\n",
        "\n"
      ]
    },
    {
      "cell_type": "markdown",
      "id": "cell-19",
      "metadata": {
        "id": "cell-19"
      },
      "source": [
        "## 4.2 Mejora de Calidad\n",
        "\n",
        "**Material de consulta:** `Mejora_Imagen_Ecualizacion.ipynb`"
      ]
    },
    {
      "cell_type": "code",
      "execution_count": null,
      "id": "cell-20",
      "metadata": {
        "id": "cell-20"
      },
      "outputs": [],
      "source": [
        "# ✅ Aplicar ecualización de histograma si hay problemas de contraste\n",
        "# Solo se aplica sobre la imagen en escala de grises\n",
        "imagen_ecualizada = cv2.equalizeHist(imagen_gris)\n",
        "\n",
        "# Mostrar comparación: original vs ecualizada\n",
        "plt.figure(figsize=(10, 5))\n",
        "\n",
        "plt.subplot(1, 2, 1)\n",
        "plt.imshow(imagen_gris, cmap='gray')\n",
        "plt.title(\"Original (gris)\")\n",
        "plt.axis('off')\n",
        "\n",
        "plt.subplot(1, 2, 2)\n",
        "plt.imshow(imagen_ecualizada, cmap='gray')\n",
        "plt.title(\"Ecualizada\")\n",
        "plt.axis('off')\n",
        "\n",
        "plt.tight_layout()\n",
        "plt.show()\n",
        "\n"
      ]
    },
    {
      "cell_type": "code",
      "execution_count": null,
      "id": "cell-21",
      "metadata": {
        "id": "cell-21"
      },
      "outputs": [],
      "source": [
        "# Supongamos que imagen_trabajo es la imagen que está rotada\n",
        "# Angulo de rotación (en grados). Ajustá según necesites\n",
        "angulo = -90  # negativo = rotación en sentido horario\n",
        "\n",
        "# Obtener dimensiones de la imagen\n",
        "(h, w) = imagen_trabajo.shape[:2]\n",
        "centro = (w // 2, h // 2)\n",
        "\n",
        "# Matriz de rotación\n",
        "M = cv2.getRotationMatrix2D(centro, angulo, 1.0)  # escala=1.0\n",
        "\n",
        "# Aplicar transformación afín (rotación)\n",
        "imagen_corregida = cv2.warpAffine(imagen_trabajo, M, (w, h))\n",
        "\n",
        "# Mostrar comparación\n",
        "plt.figure(figsize=(10, 5))\n",
        "\n",
        "plt.subplot(1, 2, 1)\n",
        "plt.imshow(imagen_trabajo)\n",
        "plt.title(\"Original (rotada)\")\n",
        "plt.axis('off')\n",
        "\n",
        "plt.subplot(1, 2, 2)\n",
        "plt.imshow(imagen_corregida)\n",
        "plt.title(\"Corregida\")\n",
        "plt.axis('off')\n",
        "\n",
        "plt.tight_layout()\n",
        "plt.show()\n",
        "\n"
      ]
    },
    {
      "cell_type": "markdown",
      "id": "cell-22",
      "metadata": {
        "id": "cell-22"
      },
      "source": [
        "## 4.3 Comparación de Resultados"
      ]
    },
    {
      "cell_type": "code",
      "execution_count": null,
      "id": "cell-23",
      "metadata": {
        "id": "cell-23"
      },
      "outputs": [],
      "source": [
        "# Supongamos que:\n",
        "# imagen_trabajo -> imagen original\n",
        "# imagen_procesada -> imagen después de rotación, ecualización o umbralización\n",
        "\n",
        "plt.figure(figsize=(10, 5))\n",
        "\n",
        "# Imagen original\n",
        "plt.subplot(1, 2, 1)\n",
        "plt.imshow(imagen_trabajo)\n",
        "plt.title(\"Original\")\n",
        "plt.axis('off')\n",
        "\n",
        "# Imagen procesada\n",
        "plt.subplot(1, 2, 2)\n",
        "plt.imshow(imagen_procesada, cmap='gray')  # si es binaria o gris\n",
        "plt.title(\"Procesada\")\n",
        "plt.axis('off')\n",
        "\n",
        "plt.tight_layout()\n",
        "plt.show()\n",
        "\n"
      ]
    },
    {
      "cell_type": "markdown",
      "id": "cell-24",
      "metadata": {
        "id": "cell-24"
      },
      "source": [
        "## 4.4 Aplicación a las Otras Imágenes\n",
        "\n",
        "Repetí el proceso para tus otras 2 imágenes, adaptando las técnicas según los problemas específicos de cada una:"
      ]
    },
    {
      "cell_type": "code",
      "execution_count": null,
      "id": "cell-25",
      "metadata": {
        "id": "cell-25"
      },
      "outputs": [],
      "source": [
        "# Función para procesar cada imagen\n",
        "def procesar_imagen(img, nombre, umbral=120, angulo_rotacion=0, aplicar_ecualizacion=False):\n",
        "    \"\"\"\n",
        "    Procesa una imagen según sus problemas específicos.\n",
        "\n",
        "    Parámetros:\n",
        "    - img: imagen original\n",
        "    - nombre: título para visualización\n",
        "    - umbral: valor para umbralización\n",
        "    - angulo_rotacion: grados para corregir rotación\n",
        "    - aplicar_ecualizacion: True si se necesita mejorar contraste\n",
        "    \"\"\"\n",
        "    # 1️⃣ Corregir rotación si hace falta\n",
        "    if angulo_rotacion != 0:\n",
        "        (h, w) = img.shape[:2]\n",
        "        centro = (w // 2, h // 2)\n",
        "        M = cv2.getRotationMatrix2D(centro, angulo_rotacion, 1.0)\n",
        "        img = cv2.warpAffine(img, M, (w, h))\n",
        "\n",
        "    # 2️⃣ Convertir a escala de grises\n",
        "    img_gray = cv2.cvtColor(img, cv2.COLOR_RGB2GRAY)\n",
        "\n",
        "    # 3️⃣ Ecualizar si hace falta\n",
        "    if aplicar_ecualizacion:\n",
        "        img_gray = cv2.equalizeHist(img_gray)\n",
        "\n",
        "    # 4️⃣ Umbralización\n",
        "    _, img_umbral = cv2.threshold(img_gray, umbral, 255, cv2.THRESH_BINARY)\n",
        "\n",
        "    # 5️⃣ Mostrar resultados lado a lado\n",
        "    plt.figure(figsize=(12, 5))\n",
        "\n",
        "    plt.subplot(1, 3, 1)\n",
        "    plt.imshow(img)\n",
        "    plt.title(f\"{nombre} - Original\")\n",
        "    plt.axis('off')\n",
        "\n",
        "    plt.subplot(1, 3, 2)\n",
        "    plt.imshow(img_gray, cmap='gray')\n",
        "    plt.title(f\"{nombre} - Gris/Ecualizada\")\n",
        "    plt.axis('off')\n",
        "\n",
        "    plt.subplot(1, 3, 3)\n",
        "    plt.imshow(img_umbral, cmap='gray')\n",
        "    plt.title(f\"{nombre} - Umbral\")\n",
        "    plt.axis('off')\n",
        "\n",
        "    plt.tight_layout()\n",
        "    plt.show()\n",
        "\n",
        "    return img_gray, img_umbral\n",
        "\n",
        "# 🔹 Procesar las otras dos imágenes\n",
        "# Ajustá los parámetros según cada caso (rotación, contraste, umbral)\n",
        "procesar_imagen(imagenes[1], nombres[1], umbral=130, angulo_rotacion=-90, aplicar_ecualizacion=False)\n",
        "procesar_imagen(imagenes[2], nombres[2], umbral=100, angulo_rotacion=0, aplicar_ecualizacion=True)\n"
      ]
    },
    {
      "cell_type": "code",
      "execution_count": null,
      "id": "cell-26",
      "metadata": {
        "id": "cell-26"
      },
      "outputs": [],
      "source": [
        "# Seleccionar la tercera imagen\n",
        "imagen_trabajo = imagenes[2]\n",
        "nombre = nombres[2]\n",
        "\n",
        "# 1️⃣ Convertir a escala de grises\n",
        "imagen_gris = cv2.cvtColor(imagen_trabajo, cv2.COLOR_RGB2GRAY)\n",
        "\n",
        "# 2️⃣ Ecualizar para mejorar contraste\n",
        "imagen_ecualizada = cv2.equalizeHist(imagen_gris)\n",
        "\n",
        "# 3️⃣ Aplicar umbralización\n",
        "umbral = 100  # ajusta según necesites\n",
        "_, imagen_umbral = cv2.threshold(imagen_ecualizada, umbral, 255, cv2.THRESH_BINARY)\n",
        "\n",
        "# 4️⃣ Mostrar resultados: original, gris/ecualizada, máscara\n",
        "plt.figure(figsize=(12, 5))\n",
        "\n",
        "plt.subplot(1, 3, 1)\n",
        "plt.imshow(imagen_trabajo)\n",
        "plt.title(f\"{nombre} - Original\")\n",
        "plt.axis('off')\n",
        "\n",
        "plt.subplot(1, 3, 2)\n",
        "plt.imshow(imagen_ecualizada, cmap='gray')\n",
        "plt.title(f\"{nombre} - Gris/Ecualizada\")\n",
        "plt.axis('off')\n",
        "\n",
        "plt.subplot(1, 3, 3)\n",
        "plt.imshow(imagen_umbral, cmap='gray')\n",
        "plt.title(f\"{nombre} - Umbral\")\n",
        "plt.axis('off')\n",
        "\n",
        "plt.tight_layout()\n",
        "plt.show()\n"
      ]
    },
    {
      "cell_type": "markdown",
      "id": "cell-27",
      "metadata": {
        "id": "cell-27"
      },
      "source": [
        "## 4.5 Resultados Finales"
      ]
    },
    {
      "cell_type": "code",
      "execution_count": null,
      "id": "cell-28",
      "metadata": {
        "id": "cell-28"
      },
      "outputs": [],
      "source": [
        "# Supongamos que tenemos:\n",
        "# imagenes -> lista de imágenes originales\n",
        "# nombres -> nombres de cada imagen\n",
        "# imagenes_procesadas -> lista de imágenes procesadas (grises/umbralizadas)\n",
        "\n",
        "# Crear lista de imágenes procesadas para este ejemplo\n",
        "imagenes_procesadas = []\n",
        "\n",
        "# Procesar cada imagen según su caso (rotación, ecualización, umbralización)\n",
        "# Ajusta parámetros según cada imagen\n",
        "for i, img in enumerate(imagenes):\n",
        "    # Parámetros de ejemplo, ajustables según cada imagen\n",
        "    if i == 0:  # Buena calidad\n",
        "        angulo = 0\n",
        "        ecualizar = False\n",
        "        umbral = 120\n",
        "    elif i == 1:  # Rotada\n",
        "        angulo = -90\n",
        "        ecualizar = False\n",
        "        umbral = 130\n",
        "    else:       # Problemas de contraste\n",
        "        angulo = 0\n",
        "        ecualizar = True\n",
        "        umbral = 100\n",
        "\n",
        "    # Corregir rotación si aplica\n",
        "    if angulo != 0:\n",
        "        (h, w) = img.shape[:2]\n",
        "        centro = (w // 2, h // 2)\n",
        "        M = cv2.getRotationMatrix2D(centro, angulo, 1.0)\n",
        "        img = cv2.warpAffine(img, M, (w, h))\n",
        "\n",
        "    # Escala de grises\n",
        "    img_gray = cv2.cvtColor(img, cv2.COLOR_RGB2GRAY)\n",
        "\n",
        "    # Ecualizar si aplica\n",
        "    if ecualizar:\n",
        "        img_gray = cv2.equalizeHist(img_gray)\n",
        "\n",
        "    # Umbralización\n",
        "    _, img_umbral = cv2.threshold(img_gray, umbral, 255, cv2.THRESH_BINARY)\n",
        "\n",
        "    # Guardar la versión procesada\n",
        "    imagenes_procesadas.append(img_umbral)\n",
        "\n",
        "# 📊 Mostrar grid: 2 filas x 3 columnas\n",
        "plt.figure(figsize=(15, 8))\n",
        "\n",
        "for i in range(3):\n",
        "    # Imagen original\n",
        "    plt.subplot(2, 3, i + 1)\n",
        "    plt.imshow(imagenes[i])\n",
        "    plt.title(f\"Original - {nombres[i]}\")\n",
        "    plt.axis('off')\n",
        "\n",
        "    # Imagen procesada\n",
        "    plt.subplot(2, 3, i + 4)\n",
        "    plt.imshow(imagenes_procesadas[i], cmap='gray')\n",
        "    plt.title(f\"Procesada - {nombres[i]}\")\n",
        "    plt.axis('off')\n",
        "\n",
        "plt.tight_layout()\n",
        "plt.show()\n"
      ]
    },
    {
      "cell_type": "markdown",
      "id": "cell-29",
      "metadata": {
        "id": "cell-29"
      },
      "source": [
        "---\n",
        "\n",
        "# REFLEXIÓN FINAL\n",
        "\n",
        "## Análisis de Resultados\n",
        "\n",
        "**¿Qué técnica fue más efectiva para cada tipo de problema?**\n",
        "\n",
        "[COMPLETAR: Reflexioná sobre qué funcionó mejor para cada imagen]\n",
        "\n",
        "**¿Qué desafíos encontraste durante el procesamiento?**\n",
        "\n",
        "[COMPLETAR: Mencioná las dificultades técnicas que tuviste]\n",
        "\n",
        "**¿En qué casos los resultados no fueron óptimos y por qué?**\n",
        "\n",
        "[COMPLETAR: Sé crítico con tus resultados]\n",
        "\n",
        "## Aprendizaje Adquirido\n",
        "\n",
        "**¿Qué conceptos del curso fueron más útiles?**\n",
        "\n",
        "[COMPLETAR: Conectá con el material visto en clase]\n",
        "\n",
        "**¿Cómo podrías mejorar este sistema en futuras versiones?**\n",
        "\n",
        "[COMPLETAR: Pensá en extensiones posibles]\n",
        "\n",
        "---\n",
        "\n",
        "## Entregables\n",
        "\n",
        "1. Este notebook completamente ejecutado con resultados\n",
        "2. Carpeta `dataset/` con tus 3 imágenes\n",
        "3. Las reflexiones completadas\n",
        "\n",
        "**Fecha de entrega:** 24 de Septiembre, 23:59\n",
        "\n",
        "---"
      ]
    }
  ],
  "metadata": {
    "kernelspec": {
      "display_name": "Python 3",
      "language": "python",
      "name": "python3"
    },
    "language_info": {
      "codemirror_mode": {
        "name": "ipython",
        "version": 3
      },
      "file_extension": ".py",
      "mimetype": "text/x-python",
      "name": "python",
      "nbconvert_exporter": "python",
      "pygments_lexer": "ipython3",
      "version": "3.12.6"
    },
    "colab": {
      "provenance": []
    }
  },
  "nbformat": 4,
  "nbformat_minor": 5
}